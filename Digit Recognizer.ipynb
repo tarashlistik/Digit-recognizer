{
 "cells": [
  {
   "cell_type": "code",
   "execution_count": 11,
   "id": "ea870547-b368-4e55-8bf7-094bd14c80bb",
   "metadata": {},
   "outputs": [],
   "source": [
    "import numpy as np\n",
    "import pandas as pd\n",
    "from tensorflow.keras.utils import img_to_array, load_img, to_categorical"
   ]
  },
  {
   "cell_type": "code",
   "execution_count": 33,
   "id": "cdd3e12b-fb0b-491f-9a09-17ce210d47e9",
   "metadata": {},
   "outputs": [],
   "source": [
    "import matplotlib.pyplot as plt\n",
    "import os\n",
    "import tensorflow as tf\n",
    "from random import randint"
   ]
  },
  {
   "cell_type": "code",
   "execution_count": 3,
   "id": "a857d9d3-dd1b-4526-a482-a73c3531f857",
   "metadata": {},
   "outputs": [],
   "source": [
    "from keras.preprocessing.image import ImageDataGenerator\n",
    "from keras.layers import Dense,Input,Dropout,GlobalAveragePooling2D,Flatten,Conv2D,BatchNormalization,Activation,MaxPooling2D\n",
    "from keras.models import Model,Sequential\n",
    "from keras.optimizers import Adam,SGD,RMSprop\n",
    "from tensorflow.keras.saving import load_model"
   ]
  },
  {
   "cell_type": "code",
   "execution_count": 16,
   "id": "b90ff6c3-05e2-465c-b2e6-e1e18dad1ad9",
   "metadata": {},
   "outputs": [],
   "source": [
    "image_shape = (28, 28, 1)\n",
    "n_class = 10\n",
    "batch_size = 128\n",
    "epochs = 30\n",
    "path = '/Users/admin/Downloads/digit-recognizer/'"
   ]
  },
  {
   "cell_type": "code",
   "execution_count": 8,
   "id": "67bf770d-cf24-482c-a03f-946b58c4917b",
   "metadata": {},
   "outputs": [],
   "source": [
    "train_csv = pd.read_csv(path + 'train.csv')\n",
    "train_n_images = train_csv.shape[0] \n",
    "\n",
    "test_csv = pd.read_csv(path + 'test.csv')\n",
    "test_n_images = test_csv.shape[0]"
   ]
  },
  {
   "cell_type": "code",
   "execution_count": 25,
   "id": "cf3bcd99-b7b9-44e6-89f2-26697284cc45",
   "metadata": {},
   "outputs": [
    {
     "data": {
      "text/html": [
       "<div>\n",
       "<style scoped>\n",
       "    .dataframe tbody tr th:only-of-type {\n",
       "        vertical-align: middle;\n",
       "    }\n",
       "\n",
       "    .dataframe tbody tr th {\n",
       "        vertical-align: top;\n",
       "    }\n",
       "\n",
       "    .dataframe thead th {\n",
       "        text-align: right;\n",
       "    }\n",
       "</style>\n",
       "<table border=\"1\" class=\"dataframe\">\n",
       "  <thead>\n",
       "    <tr style=\"text-align: right;\">\n",
       "      <th></th>\n",
       "      <th>label</th>\n",
       "      <th>pixel0</th>\n",
       "      <th>pixel1</th>\n",
       "      <th>pixel2</th>\n",
       "      <th>pixel3</th>\n",
       "      <th>pixel4</th>\n",
       "      <th>pixel5</th>\n",
       "      <th>pixel6</th>\n",
       "      <th>pixel7</th>\n",
       "      <th>pixel8</th>\n",
       "      <th>...</th>\n",
       "      <th>pixel774</th>\n",
       "      <th>pixel775</th>\n",
       "      <th>pixel776</th>\n",
       "      <th>pixel777</th>\n",
       "      <th>pixel778</th>\n",
       "      <th>pixel779</th>\n",
       "      <th>pixel780</th>\n",
       "      <th>pixel781</th>\n",
       "      <th>pixel782</th>\n",
       "      <th>pixel783</th>\n",
       "    </tr>\n",
       "  </thead>\n",
       "  <tbody>\n",
       "    <tr>\n",
       "      <th>0</th>\n",
       "      <td>1</td>\n",
       "      <td>0</td>\n",
       "      <td>0</td>\n",
       "      <td>0</td>\n",
       "      <td>0</td>\n",
       "      <td>0</td>\n",
       "      <td>0</td>\n",
       "      <td>0</td>\n",
       "      <td>0</td>\n",
       "      <td>0</td>\n",
       "      <td>...</td>\n",
       "      <td>0</td>\n",
       "      <td>0</td>\n",
       "      <td>0</td>\n",
       "      <td>0</td>\n",
       "      <td>0</td>\n",
       "      <td>0</td>\n",
       "      <td>0</td>\n",
       "      <td>0</td>\n",
       "      <td>0</td>\n",
       "      <td>0</td>\n",
       "    </tr>\n",
       "    <tr>\n",
       "      <th>1</th>\n",
       "      <td>0</td>\n",
       "      <td>0</td>\n",
       "      <td>0</td>\n",
       "      <td>0</td>\n",
       "      <td>0</td>\n",
       "      <td>0</td>\n",
       "      <td>0</td>\n",
       "      <td>0</td>\n",
       "      <td>0</td>\n",
       "      <td>0</td>\n",
       "      <td>...</td>\n",
       "      <td>0</td>\n",
       "      <td>0</td>\n",
       "      <td>0</td>\n",
       "      <td>0</td>\n",
       "      <td>0</td>\n",
       "      <td>0</td>\n",
       "      <td>0</td>\n",
       "      <td>0</td>\n",
       "      <td>0</td>\n",
       "      <td>0</td>\n",
       "    </tr>\n",
       "    <tr>\n",
       "      <th>2</th>\n",
       "      <td>1</td>\n",
       "      <td>0</td>\n",
       "      <td>0</td>\n",
       "      <td>0</td>\n",
       "      <td>0</td>\n",
       "      <td>0</td>\n",
       "      <td>0</td>\n",
       "      <td>0</td>\n",
       "      <td>0</td>\n",
       "      <td>0</td>\n",
       "      <td>...</td>\n",
       "      <td>0</td>\n",
       "      <td>0</td>\n",
       "      <td>0</td>\n",
       "      <td>0</td>\n",
       "      <td>0</td>\n",
       "      <td>0</td>\n",
       "      <td>0</td>\n",
       "      <td>0</td>\n",
       "      <td>0</td>\n",
       "      <td>0</td>\n",
       "    </tr>\n",
       "    <tr>\n",
       "      <th>3</th>\n",
       "      <td>4</td>\n",
       "      <td>0</td>\n",
       "      <td>0</td>\n",
       "      <td>0</td>\n",
       "      <td>0</td>\n",
       "      <td>0</td>\n",
       "      <td>0</td>\n",
       "      <td>0</td>\n",
       "      <td>0</td>\n",
       "      <td>0</td>\n",
       "      <td>...</td>\n",
       "      <td>0</td>\n",
       "      <td>0</td>\n",
       "      <td>0</td>\n",
       "      <td>0</td>\n",
       "      <td>0</td>\n",
       "      <td>0</td>\n",
       "      <td>0</td>\n",
       "      <td>0</td>\n",
       "      <td>0</td>\n",
       "      <td>0</td>\n",
       "    </tr>\n",
       "    <tr>\n",
       "      <th>4</th>\n",
       "      <td>0</td>\n",
       "      <td>0</td>\n",
       "      <td>0</td>\n",
       "      <td>0</td>\n",
       "      <td>0</td>\n",
       "      <td>0</td>\n",
       "      <td>0</td>\n",
       "      <td>0</td>\n",
       "      <td>0</td>\n",
       "      <td>0</td>\n",
       "      <td>...</td>\n",
       "      <td>0</td>\n",
       "      <td>0</td>\n",
       "      <td>0</td>\n",
       "      <td>0</td>\n",
       "      <td>0</td>\n",
       "      <td>0</td>\n",
       "      <td>0</td>\n",
       "      <td>0</td>\n",
       "      <td>0</td>\n",
       "      <td>0</td>\n",
       "    </tr>\n",
       "  </tbody>\n",
       "</table>\n",
       "<p>5 rows × 785 columns</p>\n",
       "</div>"
      ],
      "text/plain": [
       "   label  pixel0  pixel1  pixel2  pixel3  pixel4  pixel5  pixel6  pixel7  \\\n",
       "0      1       0       0       0       0       0       0       0       0   \n",
       "1      0       0       0       0       0       0       0       0       0   \n",
       "2      1       0       0       0       0       0       0       0       0   \n",
       "3      4       0       0       0       0       0       0       0       0   \n",
       "4      0       0       0       0       0       0       0       0       0   \n",
       "\n",
       "   pixel8  ...  pixel774  pixel775  pixel776  pixel777  pixel778  pixel779  \\\n",
       "0       0  ...         0         0         0         0         0         0   \n",
       "1       0  ...         0         0         0         0         0         0   \n",
       "2       0  ...         0         0         0         0         0         0   \n",
       "3       0  ...         0         0         0         0         0         0   \n",
       "4       0  ...         0         0         0         0         0         0   \n",
       "\n",
       "   pixel780  pixel781  pixel782  pixel783  \n",
       "0         0         0         0         0  \n",
       "1         0         0         0         0  \n",
       "2         0         0         0         0  \n",
       "3         0         0         0         0  \n",
       "4         0         0         0         0  \n",
       "\n",
       "[5 rows x 785 columns]"
      ]
     },
     "execution_count": 25,
     "metadata": {},
     "output_type": "execute_result"
    }
   ],
   "source": [
    "train_csv.head()"
   ]
  },
  {
   "cell_type": "code",
   "execution_count": 17,
   "id": "3f93d4f9-61fc-45ef-9a7c-3564dce555a0",
   "metadata": {},
   "outputs": [],
   "source": [
    "train_y = train_csv['label'];\n",
    "train_y = to_categorical(train_y, n_class)\n",
    "\n",
    "\n",
    "train_x = train_csv.drop(['label'], axis=1);\n",
    "train_x = tf.reshape(tf.convert_to_tensor(train_x), (train_n_images, image_shape[0], image_shape[1], image_shape[2]))\n",
    "\n",
    "test_x = tf.reshape(tf.convert_to_tensor(test_csv), (test_n_images, image_shape[0], image_shape[1], image_shape[2]))"
   ]
  },
  {
   "cell_type": "code",
   "execution_count": 34,
   "id": "880532a6-e45c-42ed-ab6e-589e3712fe34",
   "metadata": {},
   "outputs": [
    {
     "data": {
      "image/png": "[encoded data removed]",
      "text/plain": [
       "<Figure size 1000x600 with 28 Axes>"
      ]
     },
     "metadata": {},
     "output_type": "display_data"
    }
   ],
   "source": [
    "nrows, ncols = 4, 7\n",
    "fig, axes = plt.subplots(nrows=nrows, ncols=ncols, figsize=(10,6))\n",
    "indexes = [randint(0, train_n_images) for i in range(nrows * ncols)]\n",
    "\n",
    "n = 0\n",
    "for i in axes:\n",
    "    for ax in i:\n",
    "        ax.imshow(train_x[indexes[n]], cmap='gray')\n",
    "        ax.set_xticklabels([])\n",
    "        ax.set_yticklabels([])\n",
    "        n += 1"
   ]
  },
  {
   "cell_type": "code",
   "execution_count": 55,
   "id": "c2331b23-3dea-41b3-bc3e-2ca93b4c3cf3",
   "metadata": {},
   "outputs": [
    {
     "name": "stdout",
     "output_type": "stream",
     "text": [
      "Model: \"sequential_4\"\n",
      "_________________________________________________________________\n",
      " Layer (type)                Output Shape              Param #   \n",
      "=================================================================\n",
      " conv2d_8 (Conv2D)           (None, 26, 26, 64)        640       \n",
      "                                                                 \n",
      " activation_8 (Activation)   (None, 26, 26, 64)        0         \n",
      "                                                                 \n",
      " max_pooling2d_8 (MaxPoolin  (None, 13, 13, 64)        0         \n",
      " g2D)                                                            \n",
      "                                                                 \n",
      " conv2d_9 (Conv2D)           (None, 11, 11, 128)       73856     \n",
      "                                                                 \n",
      " activation_9 (Activation)   (None, 11, 11, 128)       0         \n",
      "                                                                 \n",
      " max_pooling2d_9 (MaxPoolin  (None, 5, 5, 128)         0         \n",
      " g2D)                                                            \n",
      "                                                                 \n",
      " flatten_4 (Flatten)         (None, 3200)              0         \n",
      "                                                                 \n",
      " dropout_4 (Dropout)         (None, 3200)              0         \n",
      "                                                                 \n",
      " dense_4 (Dense)             (None, 10)                32010     \n",
      "                                                                 \n",
      "=================================================================\n",
      "Total params: 106506 (416.04 KB)\n",
      "Trainable params: 106506 (416.04 KB)\n",
      "Non-trainable params: 0 (0.00 Byte)\n",
      "_________________________________________________________________\n"
     ]
    }
   ],
   "source": [
    "model = Sequential()\n",
    "model.add(Conv2D(64, (3, 3), input_shape=(28, 28, 1)))\n",
    "model.add(Activation('relu'))\n",
    "model.add(MaxPooling2D(pool_size=(2, 2)))\n",
    "\n",
    "\n",
    "model.add(Conv2D(128, (3, 3), input_shape=(28, 28, 1)))\n",
    "model.add(Activation('relu'))\n",
    "model.add(MaxPooling2D(pool_size=(2, 2)))\n",
    "\n",
    "model.add(Flatten())\n",
    "model.add(Dropout(0.4))\n",
    "model.add(Dense(10, activation='softmax'))\n",
    "model.summary()"
   ]
  },
  {
   "cell_type": "code",
   "execution_count": 56,
   "id": "04e55703-6516-4406-9ddd-a4f7907b5980",
   "metadata": {},
   "outputs": [],
   "source": [
    "from keras.callbacks import EarlyStopping, ModelCheckpoint, ReduceLROnPlateau\n",
    "\n",
    "checkpoint = ModelCheckpoint('model_checkpoint.h5', monitor = 'val_accuracy', \n",
    "                             verbose = 1, save_best_only = True, \n",
    "                             mode = 'max')\n",
    "earlystopping = EarlyStopping(monitor = 'val_loss', \n",
    "                              verbose = 1, patience = 3, \n",
    "                              restore_best_weights = True)\n",
    "reduce = ReduceLROnPlateau(monitor = \"val_loss\",\n",
    "                            patience = 3,\n",
    "                            factor=0.2,\n",
    "                            verbose = 1,\n",
    "                            min_delta=0.0001)\n",
    "list_callbacks = [checkpoint, earlystopping, reduce]\n",
    "\n",
    "model.compile(loss='categorical_crossentropy', optimizer='adam',  metrics=['accuracy'])"
   ]
  },
  {
   "cell_type": "code",
   "execution_count": 57,
   "id": "ac0691e9-ce86-45f8-9332-d86bad2c1feb",
   "metadata": {},
   "outputs": [
    {
     "name": "stdout",
     "output_type": "stream",
     "text": [
      "Epoch 1/30\n",
      "296/296 [==============================] - ETA: 0s - loss: 0.8740 - accuracy: 0.8911\n",
      "Epoch 1: val_accuracy improved from -inf to 0.97381, saving model to model_checkpoint.h5\n",
      "296/296 [==============================] - 59s 195ms/step - loss: 0.8740 - accuracy: 0.8911 - val_loss: 0.0797 - val_accuracy: 0.9738 - lr: 0.0010\n",
      "Epoch 2/30\n"
     ]
    },
    {
     "name": "stderr",
     "output_type": "stream",
     "text": [
      "/Users/admin/anaconda3/lib/python3.10/site-packages/keras/src/engine/training.py:3000: UserWarning: You are saving your model as an HDF5 file via `model.save()`. This file format is considered legacy. We recommend using instead the native Keras format, e.g. `model.save('my_model.keras')`.\n",
      "  saving_api.save_model(\n"
     ]
    },
    {
     "name": "stdout",
     "output_type": "stream",
     "text": [
      "296/296 [==============================] - ETA: 0s - loss: 0.1214 - accuracy: 0.9632\n",
      "Epoch 2: val_accuracy improved from 0.97381 to 0.98095, saving model to model_checkpoint.h5\n",
      "296/296 [==============================] - 73s 247ms/step - loss: 0.1214 - accuracy: 0.9632 - val_loss: 0.0600 - val_accuracy: 0.9810 - lr: 0.0010\n",
      "Epoch 3/30\n",
      "296/296 [==============================] - ETA: 0s - loss: 0.0925 - accuracy: 0.9716\n",
      "Epoch 3: val_accuracy improved from 0.98095 to 0.98214, saving model to model_checkpoint.h5\n",
      "296/296 [==============================] - 83s 279ms/step - loss: 0.0925 - accuracy: 0.9716 - val_loss: 0.0534 - val_accuracy: 0.9821 - lr: 0.0010\n",
      "Epoch 4/30\n",
      "296/296 [==============================] - ETA: 0s - loss: 0.0751 - accuracy: 0.9769\n",
      "Epoch 4: val_accuracy improved from 0.98214 to 0.98405, saving model to model_checkpoint.h5\n",
      "296/296 [==============================] - 83s 280ms/step - loss: 0.0751 - accuracy: 0.9769 - val_loss: 0.0480 - val_accuracy: 0.9840 - lr: 0.0010\n",
      "Epoch 5/30\n",
      "296/296 [==============================] - ETA: 0s - loss: 0.0613 - accuracy: 0.9812\n",
      "Epoch 5: val_accuracy improved from 0.98405 to 0.98571, saving model to model_checkpoint.h5\n",
      "296/296 [==============================] - 67s 225ms/step - loss: 0.0613 - accuracy: 0.9812 - val_loss: 0.0480 - val_accuracy: 0.9857 - lr: 0.0010\n",
      "Epoch 6/30\n",
      "296/296 [==============================] - ETA: 0s - loss: 0.0584 - accuracy: 0.9820\n",
      "Epoch 6: val_accuracy improved from 0.98571 to 0.98786, saving model to model_checkpoint.h5\n",
      "296/296 [==============================] - 58s 195ms/step - loss: 0.0584 - accuracy: 0.9820 - val_loss: 0.0406 - val_accuracy: 0.9879 - lr: 0.0010\n",
      "Epoch 7/30\n",
      "296/296 [==============================] - ETA: 0s - loss: 0.0544 - accuracy: 0.9830\n",
      "Epoch 7: val_accuracy did not improve from 0.98786\n",
      "296/296 [==============================] - 53s 180ms/step - loss: 0.0544 - accuracy: 0.9830 - val_loss: 0.0429 - val_accuracy: 0.9874 - lr: 0.0010\n",
      "Epoch 8/30\n",
      "296/296 [==============================] - ETA: 0s - loss: 0.0487 - accuracy: 0.9846\n",
      "Epoch 8: val_accuracy did not improve from 0.98786\n",
      "296/296 [==============================] - 45s 152ms/step - loss: 0.0487 - accuracy: 0.9846 - val_loss: 0.0460 - val_accuracy: 0.9860 - lr: 0.0010\n",
      "Epoch 9/30\n",
      "296/296 [==============================] - ETA: 0s - loss: 0.0468 - accuracy: 0.9844\n",
      "Epoch 9: val_accuracy improved from 0.98786 to 0.98881, saving model to model_checkpoint.h5\n",
      "296/296 [==============================] - 51s 172ms/step - loss: 0.0468 - accuracy: 0.9844 - val_loss: 0.0399 - val_accuracy: 0.9888 - lr: 0.0010\n",
      "Epoch 10/30\n",
      "296/296 [==============================] - ETA: 0s - loss: 0.0444 - accuracy: 0.9857\n",
      "Epoch 10: val_accuracy did not improve from 0.98881\n",
      "296/296 [==============================] - 51s 173ms/step - loss: 0.0444 - accuracy: 0.9857 - val_loss: 0.0354 - val_accuracy: 0.9883 - lr: 0.0010\n",
      "Epoch 11/30\n",
      "296/296 [==============================] - ETA: 0s - loss: 0.0396 - accuracy: 0.9872\n",
      "Epoch 11: val_accuracy improved from 0.98881 to 0.98952, saving model to model_checkpoint.h5\n",
      "296/296 [==============================] - 46s 156ms/step - loss: 0.0396 - accuracy: 0.9872 - val_loss: 0.0388 - val_accuracy: 0.9895 - lr: 0.0010\n",
      "Epoch 12/30\n",
      "296/296 [==============================] - ETA: 0s - loss: 0.0363 - accuracy: 0.9883\n",
      "Epoch 12: val_accuracy did not improve from 0.98952\n",
      "296/296 [==============================] - 48s 161ms/step - loss: 0.0363 - accuracy: 0.9883 - val_loss: 0.0434 - val_accuracy: 0.9879 - lr: 0.0010\n",
      "Epoch 13/30\n",
      "296/296 [==============================] - ETA: 0s - loss: 0.0416 - accuracy: 0.9868\n",
      "Epoch 13: val_accuracy did not improve from 0.98952\n",
      "Restoring model weights from the end of the best epoch: 10.\n",
      "\n",
      "Epoch 13: ReduceLROnPlateau reducing learning rate to 0.00020000000949949026.\n",
      "296/296 [==============================] - 46s 155ms/step - loss: 0.0416 - accuracy: 0.9868 - val_loss: 0.0400 - val_accuracy: 0.9888 - lr: 0.0010\n",
      "Epoch 13: early stopping\n"
     ]
    },
    {
     "data": {
      "text/plain": [
       "<keras.src.callbacks.History at 0x7ff4341c4b80>"
      ]
     },
     "execution_count": 57,
     "metadata": {},
     "output_type": "execute_result"
    }
   ],
   "source": [
    "model.fit(train_x\n",
    "          , train_y\n",
    "          , batch_size=batch_size\n",
    "          , epochs=epochs\n",
    "          , validation_split=0.1\n",
    "          , callbacks=[list_callbacks])"
   ]
  },
  {
   "cell_type": "code",
   "execution_count": 59,
   "id": "abcd223a-505a-4fc8-bd6f-cd5b0f3de4e8",
   "metadata": {},
   "outputs": [
    {
     "name": "stdout",
     "output_type": "stream",
     "text": [
      "875/875 [==============================] - 14s 16ms/step\n"
     ]
    }
   ],
   "source": [
    "predict = np.argmax(model.predict(test_x), axis=1)\n",
    "sample_submission = pd.read_csv('/Users/admin/Downloads/digit-recognizer/sample_submission.csv')\n",
    "sample_submission['Label'] = predict"
   ]
  },
  {
   "cell_type": "code",
   "execution_count": 61,
   "id": "1ac448c5-8c22-44a8-86a0-f756c7663464",
   "metadata": {},
   "outputs": [
    {
     "name": "stdout",
     "output_type": "stream",
     "text": [
      "875/875 [==============================] - 10s 12ms/step\n"
     ]
    },
    {
     "data": {
      "text/plain": [
       "array([[1.3722400e-11, 3.5268511e-13, 9.9999994e-01, ..., 1.3079304e-11,\n",
       "        2.5449977e-11, 1.7525585e-12],\n",
       "       [9.9999982e-01, 1.5393123e-14, 3.4385366e-08, ..., 1.1793451e-10,\n",
       "        3.2466704e-10, 3.3303291e-08],\n",
       "       [9.9284518e-11, 1.9272603e-11, 2.1887533e-07, ..., 3.7768866e-10,\n",
       "        1.4160735e-04, 9.9985504e-01],\n",
       "       ...,\n",
       "       [2.5235439e-20, 6.3072328e-16, 1.0629002e-14, ..., 5.9213943e-15,\n",
       "        5.6059459e-14, 2.8355849e-14],\n",
       "       [9.0425857e-08, 1.1434806e-10, 1.1233751e-08, ..., 9.0424516e-07,\n",
       "        6.5766322e-08, 9.9995142e-01],\n",
       "       [5.1381843e-11, 5.0706253e-12, 9.9999994e-01, ..., 1.1841789e-12,\n",
       "        9.1674508e-09, 1.6998339e-12]], dtype=float32)"
      ]
     },
     "execution_count": 61,
     "metadata": {},
     "output_type": "execute_result"
    }
   ],
   "source": [
    "model.predict(test_x)"
   ]
  },
  {
   "cell_type": "code",
   "execution_count": null,
   "id": "c3f443b4-60ab-47e9-a741-2997e64d0381",
   "metadata": {},
   "outputs": [],
   "source": [
    "save_predict = sample_submission.to_csv('cnn_predict.csv', index=False)"
   ]
  }
 ],
 "metadata": {
  "kernelspec": {
   "display_name": "Python 3 (ipykernel)",
   "language": "python",
   "name": "python3"
  },
  "language_info": {
   "codemirror_mode": {
    "name": "ipython",
    "version": 3
   },
   "file_extension": ".py",
   "mimetype": "text/x-python",
   "name": "python",
   "nbconvert_exporter": "python",
   "pygments_lexer": "ipython3",
   "version": "3.10.9"
  }
 },
 "nbformat": 4,
 "nbformat_minor": 5
}
